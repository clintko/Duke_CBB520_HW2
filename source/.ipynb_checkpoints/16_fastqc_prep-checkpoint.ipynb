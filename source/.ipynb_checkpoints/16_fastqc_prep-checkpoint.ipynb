{
 "cells": [
  {
   "cell_type": "markdown",
   "metadata": {},
   "source": [
    "# FASTQC Report of Trimmed/Filtered (Preprocessed) Reads"
   ]
  },
  {
   "cell_type": "code",
   "execution_count": 1,
   "metadata": {},
   "outputs": [],
   "source": [
    "source config.sh"
   ]
  },
  {
   "cell_type": "code",
   "execution_count": 2,
   "metadata": {},
   "outputs": [
    {
     "name": "stdout",
     "output_type": "stream",
     "text": [
      "SRR4841864_1.trim.fastq  SRR4841864_2.trim.fastq\n",
      "SRR4841864_1.filter.fastq  SRR4841864_2.filter.fastq\n"
     ]
    }
   ],
   "source": [
    "ls $TRIMMED\n",
    "ls $FILTER"
   ]
  },
  {
   "cell_type": "code",
   "execution_count": 3,
   "metadata": {},
   "outputs": [
    {
     "name": "stdout",
     "output_type": "stream",
     "text": [
      "/home/jovyan/work/GitRepo/Duke_CBB520_HW2/qc_output_trim\n",
      "/home/jovyan/work/GitRepo/Duke_CBB520_HW2/qc_output_filter\n",
      "======================\n",
      "\u001b[0m\u001b[01;34m/home/jovyan/work/GitRepo/Duke_CBB520_HW2/qc_output_filter\u001b[0m\n",
      "\u001b[01;34m/home/jovyan/work/GitRepo/Duke_CBB520_HW2/qc_output_raw\u001b[0m\n",
      "\u001b[01;34m/home/jovyan/work/GitRepo/Duke_CBB520_HW2/qc_output_trim\u001b[0m\n"
     ]
    }
   ],
   "source": [
    "echo $QC_TRIM\n",
    "echo $QC_FILTER\n",
    "echo \"======================\"\n",
    "ls -d $CUROUT/qc_*"
   ]
  },
  {
   "cell_type": "markdown",
   "metadata": {},
   "source": [
    "## Generate QC report of read 1 and read 2 (Trimmed)"
   ]
  },
  {
   "cell_type": "code",
   "execution_count": 4,
   "metadata": {},
   "outputs": [
    {
     "name": "stdout",
     "output_type": "stream",
     "text": [
      "Started analysis of SRR4841864_1.trim.fastq\n",
      "Approx 5% complete for SRR4841864_1.trim.fastq\n",
      "Approx 10% complete for SRR4841864_1.trim.fastq\n",
      "Approx 15% complete for SRR4841864_1.trim.fastq\n",
      "Approx 20% complete for SRR4841864_1.trim.fastq\n",
      "Approx 25% complete for SRR4841864_1.trim.fastq\n",
      "Approx 30% complete for SRR4841864_1.trim.fastq\n",
      "Approx 35% complete for SRR4841864_1.trim.fastq\n",
      "Approx 40% complete for SRR4841864_1.trim.fastq\n",
      "Approx 45% complete for SRR4841864_1.trim.fastq\n",
      "Approx 50% complete for SRR4841864_1.trim.fastq\n",
      "Approx 55% complete for SRR4841864_1.trim.fastq\n",
      "Approx 60% complete for SRR4841864_1.trim.fastq\n",
      "Approx 65% complete for SRR4841864_1.trim.fastq\n",
      "Approx 70% complete for SRR4841864_1.trim.fastq\n",
      "Approx 75% complete for SRR4841864_1.trim.fastq\n",
      "Approx 80% complete for SRR4841864_1.trim.fastq\n",
      "Approx 85% complete for SRR4841864_1.trim.fastq\n",
      "Approx 90% complete for SRR4841864_1.trim.fastq\n",
      "Approx 95% complete for SRR4841864_1.trim.fastq\n",
      "Analysis complete for SRR4841864_1.trim.fastq\n"
     ]
    }
   ],
   "source": [
    "fastqc --threads 8 --extract $TRIMMED/SRR4841864_1.trim.fastq -o $QC_TRIM"
   ]
  },
  {
   "cell_type": "code",
   "execution_count": 5,
   "metadata": {},
   "outputs": [
    {
     "name": "stdout",
     "output_type": "stream",
     "text": [
      "Started analysis of SRR4841864_2.trim.fastq\n",
      "Approx 5% complete for SRR4841864_2.trim.fastq\n",
      "Approx 10% complete for SRR4841864_2.trim.fastq\n",
      "Approx 15% complete for SRR4841864_2.trim.fastq\n",
      "Approx 20% complete for SRR4841864_2.trim.fastq\n",
      "Approx 25% complete for SRR4841864_2.trim.fastq\n",
      "Approx 30% complete for SRR4841864_2.trim.fastq\n",
      "Approx 35% complete for SRR4841864_2.trim.fastq\n",
      "Approx 40% complete for SRR4841864_2.trim.fastq\n",
      "Approx 45% complete for SRR4841864_2.trim.fastq\n",
      "Approx 50% complete for SRR4841864_2.trim.fastq\n",
      "Approx 55% complete for SRR4841864_2.trim.fastq\n",
      "Approx 60% complete for SRR4841864_2.trim.fastq\n",
      "Approx 65% complete for SRR4841864_2.trim.fastq\n",
      "Approx 70% complete for SRR4841864_2.trim.fastq\n",
      "Approx 75% complete for SRR4841864_2.trim.fastq\n",
      "Approx 80% complete for SRR4841864_2.trim.fastq\n",
      "Approx 85% complete for SRR4841864_2.trim.fastq\n",
      "Approx 90% complete for SRR4841864_2.trim.fastq\n",
      "Approx 95% complete for SRR4841864_2.trim.fastq\n",
      "Analysis complete for SRR4841864_2.trim.fastq\n"
     ]
    }
   ],
   "source": [
    "fastqc --threads 8 --extract $TRIMMED/SRR4841864_2.trim.fastq -o $QC_TRIM"
   ]
  },
  {
   "cell_type": "markdown",
   "metadata": {},
   "source": [
    "## Generate QC report of read 1 and read 2 (Filtered)"
   ]
  },
  {
   "cell_type": "code",
   "execution_count": 6,
   "metadata": {},
   "outputs": [
    {
     "name": "stdout",
     "output_type": "stream",
     "text": [
      "Started analysis of SRR4841864_1.filter.fastq\n",
      "Approx 5% complete for SRR4841864_1.filter.fastq\n",
      "Approx 10% complete for SRR4841864_1.filter.fastq\n",
      "Approx 15% complete for SRR4841864_1.filter.fastq\n",
      "Approx 20% complete for SRR4841864_1.filter.fastq\n",
      "Approx 25% complete for SRR4841864_1.filter.fastq\n",
      "Approx 30% complete for SRR4841864_1.filter.fastq\n",
      "Approx 35% complete for SRR4841864_1.filter.fastq\n",
      "Approx 40% complete for SRR4841864_1.filter.fastq\n",
      "Approx 45% complete for SRR4841864_1.filter.fastq\n",
      "Approx 50% complete for SRR4841864_1.filter.fastq\n",
      "Approx 55% complete for SRR4841864_1.filter.fastq\n",
      "Approx 60% complete for SRR4841864_1.filter.fastq\n",
      "Approx 65% complete for SRR4841864_1.filter.fastq\n",
      "Approx 70% complete for SRR4841864_1.filter.fastq\n",
      "Approx 75% complete for SRR4841864_1.filter.fastq\n",
      "Approx 80% complete for SRR4841864_1.filter.fastq\n",
      "Approx 85% complete for SRR4841864_1.filter.fastq\n",
      "Approx 90% complete for SRR4841864_1.filter.fastq\n",
      "Approx 95% complete for SRR4841864_1.filter.fastq\n",
      "Analysis complete for SRR4841864_1.filter.fastq\n"
     ]
    }
   ],
   "source": [
    "fastqc --threads 8 --extract $FILTER/SRR4841864_1.filter.fastq -o $QC_FILTER"
   ]
  },
  {
   "cell_type": "code",
   "execution_count": 7,
   "metadata": {},
   "outputs": [
    {
     "name": "stdout",
     "output_type": "stream",
     "text": [
      "Started analysis of SRR4841864_2.filter.fastq\n",
      "Approx 5% complete for SRR4841864_2.filter.fastq\n",
      "Approx 10% complete for SRR4841864_2.filter.fastq\n",
      "Approx 15% complete for SRR4841864_2.filter.fastq\n",
      "Approx 20% complete for SRR4841864_2.filter.fastq\n",
      "Approx 25% complete for SRR4841864_2.filter.fastq\n",
      "Approx 30% complete for SRR4841864_2.filter.fastq\n",
      "Approx 35% complete for SRR4841864_2.filter.fastq\n",
      "Approx 40% complete for SRR4841864_2.filter.fastq\n",
      "Approx 45% complete for SRR4841864_2.filter.fastq\n",
      "Approx 50% complete for SRR4841864_2.filter.fastq\n",
      "Approx 55% complete for SRR4841864_2.filter.fastq\n",
      "Approx 60% complete for SRR4841864_2.filter.fastq\n",
      "Approx 65% complete for SRR4841864_2.filter.fastq\n",
      "Approx 70% complete for SRR4841864_2.filter.fastq\n",
      "Approx 75% complete for SRR4841864_2.filter.fastq\n",
      "Approx 80% complete for SRR4841864_2.filter.fastq\n",
      "Approx 85% complete for SRR4841864_2.filter.fastq\n",
      "Approx 90% complete for SRR4841864_2.filter.fastq\n",
      "Approx 95% complete for SRR4841864_2.filter.fastq\n",
      "Analysis complete for SRR4841864_2.filter.fastq\n"
     ]
    }
   ],
   "source": [
    "fastqc --threads 8 --extract $FILTER/SRR4841864_2.filter.fastq -o $QC_FILTER"
   ]
  }
 ],
 "metadata": {
  "kernelspec": {
   "display_name": "Bash",
   "language": "bash",
   "name": "bash"
  },
  "language_info": {
   "codemirror_mode": "shell",
   "file_extension": ".sh",
   "mimetype": "text/x-sh",
   "name": "bash"
  }
 },
 "nbformat": 4,
 "nbformat_minor": 2
}
