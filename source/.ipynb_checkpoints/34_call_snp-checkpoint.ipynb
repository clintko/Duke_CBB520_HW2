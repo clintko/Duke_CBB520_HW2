{
 "cells": [
  {
   "cell_type": "markdown",
   "metadata": {},
   "source": [
    "# Call SNP using bcftools"
   ]
  },
  {
   "cell_type": "code",
   "execution_count": 1,
   "metadata": {},
   "outputs": [],
   "source": [
    "source config.sh"
   ]
  },
  {
   "cell_type": "markdown",
   "metadata": {},
   "source": [
    "## [**bcftools — utilities for variant calling and manipulating VCFs and BCFs.**](https://samtools.github.io/bcftools/bcftools.html)\n",
    "- annotate .. edit VCF files, add or remove annotations\n",
    "- call .. SNP/indel calling (former \"view\")\n",
    "- cnv .. Copy Number Variation caller\n",
    "- concat .. concatenate VCF/BCF files from the same set of samples\n",
    "- consensus .. create consensus sequence by applying VCF variants\n",
    "- convert .. convert VCF/BCF to other formats and back\n",
    "- csq .. haplotype aware consequence caller\n",
    "- filter .. filter VCF/BCF files using fixed thresholds\n",
    "- gtcheck .. check sample concordance, detect sample swaps and contamination\n",
    "- index .. index VCF/BCF\n",
    "- isec .. intersections of VCF/BCF files\n",
    "- merge .. merge VCF/BCF files files from non-overlapping sample sets\n",
    "- mpileup .. multi-way pileup producing genotype likelihoods\n",
    "- norm .. normalize indels\n",
    "- plugin .. run user-defined plugin\n",
    "- polysomy .. detect contaminations and whole-chromosome aberrations\n",
    "- query .. transform VCF/BCF into user-defined formats\n",
    "- reheader .. modify VCF/BCF header, change sample names\n",
    "- roh .. identify runs of homo/auto-zygosity\n",
    "- sort .. sort VCF/BCF files\n",
    "- stats .. produce VCF/BCF stats (former vcfcheck)\n",
    "- view .. subset, filter and convert VCF and BCF files"
   ]
  },
  {
   "cell_type": "markdown",
   "metadata": {},
   "source": [
    "### **bcftools mpileup is used when calling SNP** \n",
    "\n",
    "When using `samtools mpileup`, the following error occurred:\n",
    "- `samtools mpileup -g -f *sorted.bam > *.bcf`\n",
    "\n",
    "```\n",
    "[warning] samtools mpileup option `g` is functional, but deprecated. \n",
    "Please switch to using bcftools mpileup in future.\n",
    "```\n",
    "\n",
    "Therefore, instead of using samtools, here I use bcftools to call get `.bcf` file  \n",
    "- `bcftools mpileup -f *sorted.bam > *.bcf`"
   ]
  },
  {
   "cell_type": "markdown",
   "metadata": {},
   "source": [
    "### **Look closer to mpileup --- multi-way pileup producing genotype likelihoods**\n",
    "\n",
    "Generate VCF or BCF containing genotype likelihoods for one or multiple alignment (BAM or CRAM) files. **This is based on the original samtools mpileup command (with the -v or -g options)** producing genotype likelihoods in VCF or BCF format, but not the textual pileup output. **The mpileup command was transferred to bcftools in order to avoid errors resulting from use of incompatible versions of samtools and bcftools when using in the mpileup+bcftools call pipeline.**"
   ]
  },
  {
   "cell_type": "markdown",
   "metadata": {},
   "source": [
    "### [**Arguments for `bcftools mpileup`**](https://samtools.github.io/bcftools/bcftools.html#mpileup)\n",
    "\n",
    "*Input options*\n",
    "\n",
    "* `-f, --fasta-ref FILE`\n",
    "    - The **faidx-indexed reference** file in the FASTA format. \n",
    "    - The file can be optionally compressed by bgzip. \n",
    "    - **Reference is required** by default unless the --no-reference option is set [null]\n",
    "\n",
    "*Output options*\n",
    "\n",
    "* `-O, --output-type b|u|z|v`\n",
    "\n",
    "* `--threads INT`"
   ]
  },
  {
   "cell_type": "markdown",
   "metadata": {},
   "source": [
    "## [Manual: How to call the variants?](http://samtools.github.io/bcftools/howtos/variant-calling.html)\n",
    "\n",
    "`bcftools mpileup -f reference.fa alignments.bam | bcftools call -mv -Ob -o calls.bcf`\n",
    "- The first **mpileup** part generates **genotype likelihoods** at each genomic position with coverage. \n",
    "- The second **call** part makes the actual calls. \n",
    "    - The `-m` switch tells the program to use the default calling method, \n",
    "    - the `-v` option asks to output only variant sites, \n",
    "    - finally the `-O` option selects the output format. \n",
    "        - In this example we chosen binary compressed BCF, which is the optimal starting format for further processing, such as filtering.\n",
    "\n",
    "**Fine tuning**\n",
    "\n",
    "However, there are a few more options one should know about.\n",
    "\n",
    "`bcftools mpileup -Ou -f reference.fa alignments.bam | bcftools call -mv -Ob -o calls.bcf`\n",
    "- Do not waste computer’s time by making mpileup convert from the internal binary representation (BCF) to text (VCF), only to be immediately converted back to binary representation by call. Instead, use `-Ou` to work with uncompressed BCF output:\n",
    "- The calling can be made more sensitive or restrictive by using a different prior. Stricter calls are obtained by using smaller value, more benevolent calls are obtained by using bigger value. The default is `bcftools call -P 1.1e-3`"
   ]
  },
  {
   "cell_type": "markdown",
   "metadata": {},
   "source": [
    "------"
   ]
  },
  {
   "cell_type": "markdown",
   "metadata": {},
   "source": [
    "### Some further references"
   ]
  },
  {
   "cell_type": "markdown",
   "metadata": {},
   "source": [
    "- SNP tutorial: https://angus.readthedocs.io/en/2013/snp_tutorial.html\n",
    "- Bcftools manual: https://samtools.github.io/bcftools/\n",
    "- Question: samtools mpileup to bcftools mpileup: https://www.biostars.org/p/351305/\n",
    "- Manual\n",
    "    - older version:https://github.com/samtools/bcftools/wiki/HOWTOs\n",
    "    - newer version: http://samtools.github.io/bcftools/howtos/index.html\n",
    "- Discussion in Github https://github.com/samtools/bcftools/issues/958"
   ]
  },
  {
   "cell_type": "markdown",
   "metadata": {},
   "source": [
    "-----"
   ]
  },
  {
   "cell_type": "markdown",
   "metadata": {},
   "source": [
    "## Call SNP"
   ]
  },
  {
   "cell_type": "code",
   "execution_count": 20,
   "metadata": {},
   "outputs": [
    {
     "name": "stdout",
     "output_type": "stream",
     "text": [
      "================================================\n",
      "aln_pe.bam  aln_pe_sorted.bam  calls_filter.stats\n",
      "aln_pe.sam  calls.bcf          calls_filter.vcf\n",
      "/home/jovyan/work/GitRepo/Duke_CBB520_HW2/out_raw\n",
      "/home/jovyan/work/GitRepo/Duke_CBB520_HW2/out_raw/plot_stat\n",
      "++++++++++++++++++++++++\n",
      "================================================\n",
      "aln_pe.bam  aln_pe.sam  aln_pe_sorted.bam\n",
      "/home/jovyan/work/GitRepo/Duke_CBB520_HW2/out_trim\n",
      "/home/jovyan/work/GitRepo/Duke_CBB520_HW2/out_trim/plot_stat\n",
      "++++++++++++++++++++++++\n",
      "================================================\n",
      "aln_pe.bam  aln_pe.sam  aln_pe_sorted.bam\n",
      "/home/jovyan/work/GitRepo/Duke_CBB520_HW2/out_filter\n",
      "/home/jovyan/work/GitRepo/Duke_CBB520_HW2/out_filter/plot_stat\n",
      "++++++++++++++++++++++++\n"
     ]
    }
   ],
   "source": [
    "DIR=( \"$ALIGN_RAW\"  \"$ALIGN_TRIM\" \"$ALIGN_FILTER\" )\n",
    "OUT=( \"$OUT_RAW\"    \"$OUT_TRIM\"   \"$OUT_FILTER\" )\n",
    "FIG=( \"$FIG_RAW\"    \"$FIG_TRIM\"   \"$FIG_FILTER\" )\n",
    "REFFA=$GENOME/$FA\n",
    "\n",
    "for ((i=0; i<${#OUT[@]}; ++i)); do\n",
    "    echo \"================================================\"\n",
    "    ls \"${DIR[i]}\"\n",
    "    echo \"${OUT[i]}\"\n",
    "    echo \"${FIG[i]}\"\n",
    "    echo \"++++++++++++++++++++++++\"  \n",
    "done"
   ]
  },
  {
   "cell_type": "code",
   "execution_count": 3,
   "metadata": {},
   "outputs": [
    {
     "name": "stdout",
     "output_type": "stream",
     "text": [
      "Note: none of --samples-file, --ploidy or --ploidy-file given, assuming all sites are diploid\n",
      "[mpileup] 1 samples in 1 input files\n"
     ]
    }
   ],
   "source": [
    "bcftools mpileup --threads 8 -Ou -f $GENOME/$FA $ALIGN_RAW/aln_pe_sorted.bam | bcftools call -mv -Ob -o $ALIGN_RAW/calls.bcf"
   ]
  },
  {
   "cell_type": "code",
   "execution_count": 5,
   "metadata": {},
   "outputs": [],
   "source": [
    "bcftools view $ALIGN_RAW/calls.bcf | bcftools filter -i'%QUAL>20' > $ALIGN_RAW/calls_filter.vcf"
   ]
  },
  {
   "cell_type": "code",
   "execution_count": 13,
   "metadata": {},
   "outputs": [],
   "source": [
    "bcftools stats -F $GENOME/$FA -s - $ALIGN_RAW/calls_filter.vcf > $ALIGN_RAW/calls_filter.stats"
   ]
  },
  {
   "cell_type": "code",
   "execution_count": 15,
   "metadata": {},
   "outputs": [
    {
     "name": "stdout",
     "output_type": "stream",
     "text": [
      "Parsing bcftools stats output: /home/jovyan/work/Data/SRR4841864/align_raw/calls_filter.stats\n",
      "Warning: Possible version mismatch, the definition line differs\n",
      "\texpected: # PSC\t[2]id\t[3]sample\t[4]nRefHom\t[5]nNonRefHom\t[6]nHets\t[7]nTransitions\t[8]nTransversions\t[9]nIndels\t[10]average depth\t[11]nSingletons\n",
      "\tfound:    # PSC\t[2]id\t[3]sample\t[4]nRefHom\t[5]nNonRefHom\t[6]nHets\t[7]nTransitions\t[8]nTransversions\t[9]nIndels\t[10]average depth\t[11]nSingletons\t[12]nHapRef\t[13]nHapAlt\t[14]nMissing\n",
      "Plotting graphs: python plot.py\n",
      "Creating PDF: pdflatex summary.tex >plot-vcfstats.log 2>&1\n",
      "Finished: /home/jovyan/work/GitRepo/Duke_CBB520_HW2/out_raw/plot_stat/summary.pdf\n"
     ]
    }
   ],
   "source": [
    "plot-vcfstats -p $FIG_RAW $ALIGN_RAW/calls_filter.stats "
   ]
  },
  {
   "cell_type": "code",
   "execution_count": 21,
   "metadata": {},
   "outputs": [
    {
     "name": "stdout",
     "output_type": "stream",
     "text": [
      "================================================\n",
      "/home/jovyan/work/Data/SRR4841864/align_raw\n",
      "/home/jovyan/work/GitRepo/Duke_CBB520_HW2/out_raw\n",
      "/home/jovyan/work/GitRepo/Duke_CBB520_HW2/out_raw/plot_stat\n",
      "++++++++++++++++++++++++\n",
      "Note: none of --samples-file, --ploidy or --ploidy-file given, assuming all sites are diploid\n",
      "[mpileup] 1 samples in 1 input files\n",
      "Parsing bcftools stats output: /home/jovyan/work/GitRepo/Duke_CBB520_HW2/out_raw/calls_filter.stats\n",
      "Warning: Possible version mismatch, the definition line differs\n",
      "\texpected: # PSC\t[2]id\t[3]sample\t[4]nRefHom\t[5]nNonRefHom\t[6]nHets\t[7]nTransitions\t[8]nTransversions\t[9]nIndels\t[10]average depth\t[11]nSingletons\n",
      "\tfound:    # PSC\t[2]id\t[3]sample\t[4]nRefHom\t[5]nNonRefHom\t[6]nHets\t[7]nTransitions\t[8]nTransversions\t[9]nIndels\t[10]average depth\t[11]nSingletons\t[12]nHapRef\t[13]nHapAlt\t[14]nMissing\n",
      "Plotting graphs: python plot.py\n",
      "Creating PDF: pdflatex summary.tex >plot-vcfstats.log 2>&1\n",
      "Finished: /home/jovyan/work/GitRepo/Duke_CBB520_HW2/out_raw/plot_stat/summary.pdf\n",
      "================================================\n",
      "/home/jovyan/work/Data/SRR4841864/align_trim\n",
      "/home/jovyan/work/GitRepo/Duke_CBB520_HW2/out_trim\n",
      "/home/jovyan/work/GitRepo/Duke_CBB520_HW2/out_trim/plot_stat\n",
      "++++++++++++++++++++++++\n",
      "Note: none of --samples-file, --ploidy or --ploidy-file given, assuming all sites are diploid\n",
      "[mpileup] 1 samples in 1 input files\n",
      "Parsing bcftools stats output: /home/jovyan/work/GitRepo/Duke_CBB520_HW2/out_trim/calls_filter.stats\n",
      "Warning: Possible version mismatch, the definition line differs\n",
      "\texpected: # PSC\t[2]id\t[3]sample\t[4]nRefHom\t[5]nNonRefHom\t[6]nHets\t[7]nTransitions\t[8]nTransversions\t[9]nIndels\t[10]average depth\t[11]nSingletons\n",
      "\tfound:    # PSC\t[2]id\t[3]sample\t[4]nRefHom\t[5]nNonRefHom\t[6]nHets\t[7]nTransitions\t[8]nTransversions\t[9]nIndels\t[10]average depth\t[11]nSingletons\t[12]nHapRef\t[13]nHapAlt\t[14]nMissing\n",
      "Plotting graphs: python plot.py\n",
      "Creating PDF: pdflatex summary.tex >plot-vcfstats.log 2>&1\n",
      "Finished: /home/jovyan/work/GitRepo/Duke_CBB520_HW2/out_trim/plot_stat/summary.pdf\n",
      "================================================\n",
      "/home/jovyan/work/Data/SRR4841864/align_filter\n",
      "/home/jovyan/work/GitRepo/Duke_CBB520_HW2/out_filter\n",
      "/home/jovyan/work/GitRepo/Duke_CBB520_HW2/out_filter/plot_stat\n",
      "++++++++++++++++++++++++\n",
      "Note: none of --samples-file, --ploidy or --ploidy-file given, assuming all sites are diploid\n",
      "[mpileup] 1 samples in 1 input files\n",
      "Parsing bcftools stats output: /home/jovyan/work/GitRepo/Duke_CBB520_HW2/out_filter/calls_filter.stats\n",
      "Warning: Possible version mismatch, the definition line differs\n",
      "\texpected: # PSC\t[2]id\t[3]sample\t[4]nRefHom\t[5]nNonRefHom\t[6]nHets\t[7]nTransitions\t[8]nTransversions\t[9]nIndels\t[10]average depth\t[11]nSingletons\n",
      "\tfound:    # PSC\t[2]id\t[3]sample\t[4]nRefHom\t[5]nNonRefHom\t[6]nHets\t[7]nTransitions\t[8]nTransversions\t[9]nIndels\t[10]average depth\t[11]nSingletons\t[12]nHapRef\t[13]nHapAlt\t[14]nMissing\n",
      "Plotting graphs: python plot.py\n",
      "Creating PDF: pdflatex summary.tex >plot-vcfstats.log 2>&1\n",
      "Finished: /home/jovyan/work/GitRepo/Duke_CBB520_HW2/out_filter/plot_stat/summary.pdf\n"
     ]
    }
   ],
   "source": [
    "DIR=( \"$ALIGN_RAW\"  \"$ALIGN_TRIM\" \"$ALIGN_FILTER\" )\n",
    "OUT=( \"$OUT_RAW\"    \"$OUT_TRIM\"   \"$OUT_FILTER\" )\n",
    "FIG=( \"$FIG_RAW\"    \"$FIG_TRIM\"   \"$FIG_FILTER\" )\n",
    "REFFA=$GENOME/$FA\n",
    "\n",
    "for ((i=0; i<${#OUT[@]}; ++i)); do\n",
    "    echo \"================================================\"\n",
    "    echo \"${DIR[i]}\"\n",
    "    echo \"${OUT[i]}\"\n",
    "    echo \"${FIG[i]}\"\n",
    "    echo \"++++++++++++++++++++++++\"  \n",
    "    \n",
    "    ### Call SNP\n",
    "    bcftools mpileup --threads 8 -Ou -f $GENOME/$FA ${DIR[i]}/aln_pe_sorted.bam | bcftools call -mv -Ob -o ${OUT[i]}/calls.bcf\n",
    "    \n",
    "    ### Filter the variants\n",
    "    bcftools view ${OUT[i]}/calls.bcf | bcftools filter -i'%QUAL>20' > ${OUT[i]}/calls_filter.vcf\n",
    "    \n",
    "    ### calculate stats of variants\n",
    "    bcftools stats -F $GENOME/$FA -s - ${OUT[i]}/calls_filter.vcf > ${OUT[i]}/calls_filter.stats\n",
    "    \n",
    "    ### generate reports/plots of variants\n",
    "    plot-vcfstats -p ${FIG[i]} ${OUT[i]}/calls_filter.stats \n",
    "done"
   ]
  },
  {
   "cell_type": "markdown",
   "metadata": {},
   "source": [
    "## View VCF files"
   ]
  },
  {
   "cell_type": "code",
   "execution_count": 23,
   "metadata": {},
   "outputs": [
    {
     "name": "stdout",
     "output_type": "stream",
     "text": [
      "#CHROM\tPOS\tID\tREF\tALT\tQUAL\tFILTER\tINFO\tFORMAT\t/home/jovyan/work/Data/SRR4841864/align_filter/aln_pe_sorted.bam\n",
      "I\t101\t.\tG\tA\t23.434\tPASS\tDP=6;VDB=0.00698754;SGB=-0.590765;MQ0F=0.166667;AC=2;AN=2;DP4=0,0,5,0;MQ=12\tGT:PL\t1/1:53,15,0\n",
      "I\t136\t.\tG\tA\t25.3429\tPASS\tDP=13;VDB=0.209095;SGB=-0.636426;RPB=0.442128;MQB=0.924449;BQB=0.442128;MQ0F=0.153846;ICB=1;HOB=0.5;AC=1;AN=2;DP4=4,0,7,0;MQ=17\tGT:PL\t0/1:58,0,46\n",
      "I\t155\t.\tT\tA\t40.4021\tPASS\tDP=14;VDB=0.24063;SGB=-0.590765;RPB=0.6821;MQB=0.584657;MQSB=1;BQB=0.896474;MQ0F=0.142857;ICB=1;HOB=0.5;AC=1;AN=2;DP4=6,1,5,0;MQ=20\tGT:PL\t0/1:73,0,73\n",
      "I\t166\t.\tC\tT\t32.3756\tPASS\tDP=15;VDB=0.138245;SGB=-0.556411;RPB=0.444858;MQB=0.140858;MQSB=0.996974;BQB=0.105399;MQ0F=0.133333;ICB=1;HOB=0.5;AC=1;AN=2;DP4=7,3,4,0;MQ=18\tGT:PL\t0/1:65,0,81\n",
      "I\t177\t.\tG\tC\t46.2562\tPASS\tDP=10;VDB=0.0643982;SGB=-0.590765;RPB=0.450401;MQB=0.900802;MQSB=0.833333;BQB=0.900802;MQ0F=0.1;ICB=1;HOB=0.5;AC=1;AN=2;DP4=1,2,5,0;MQ=26\tGT:PL\t0/1:79,0,61\n",
      "I\t184\t.\tC\tA\t23.2506\tPASS\tDP=10;VDB=0.199299;SGB=-0.511536;RPB=0.462292;MQB=0.924584;MQSB=0.809011;BQB=0.809011;MQ0F=0.1;ICB=1;HOB=0.5;AC=1;AN=2;DP4=5,1,1,2;MQ=24\tGT:PL\t0/1:56,0,76\n",
      "I\t188\t.\tC\tT\t24.243\tPASS\tDP=10;VDB=0.148533;SGB=-0.511536;RPB=0.577865;MQB=0.924584;MQSB=0.809011;BQB=0.924584;MQ0F=0.1;ICB=1;HOB=0.5;AC=1;AN=2;DP4=5,1,1,2;MQ=24\tGT:PL\t0/1:57,0,78\n",
      "I\t192\t.\tC\tT\t31.3244\tPASS\tDP=10;VDB=0.0483573;SGB=-0.556411;RPB=0.868321;MQB=0.62023;MQSB=0.833333;BQB=0.992367;MQ0F=0.1;ICB=1;HOB=0.5;AC=1;AN=2;DP4=4,0,2,2;MQ=26\tGT:PL\t0/1:64,0,76\n",
      "I\t286\t.\tA\tT\t56\tPASS\tDP=8;VDB=0.0485232;SGB=-0.616816;MQSB=1;MQ0F=0;AC=2;AN=2;DP4=0,0,5,1;MQ=18\tGT:PL\t1/1:86,18,0\n"
     ]
    }
   ],
   "source": [
    "cat $OUT_FILTER/calls_filter.vcf | egrep -v '##' | head -10"
   ]
  }
 ],
 "metadata": {
  "kernelspec": {
   "display_name": "Bash",
   "language": "bash",
   "name": "bash"
  },
  "language_info": {
   "codemirror_mode": "shell",
   "file_extension": ".sh",
   "mimetype": "text/x-sh",
   "name": "bash"
  }
 },
 "nbformat": 4,
 "nbformat_minor": 2
}
