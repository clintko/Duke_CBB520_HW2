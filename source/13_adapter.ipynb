{
 "cells": [
  {
   "cell_type": "markdown",
   "metadata": {},
   "source": [
    "# Find the adapter"
   ]
  },
  {
   "cell_type": "markdown",
   "metadata": {},
   "source": [
    "From the FASTQC reports, there were sequences that were unnormally overpresented. After checking those sequence, we knew that they were the [adapters of during the library preparation](https://support.illumina.com/bulletins/2016/12/what-sequences-do-i-use-for-adapter-trimming.html). "
   ]
  },
  {
   "cell_type": "code",
   "execution_count": 1,
   "metadata": {},
   "outputs": [],
   "source": [
    "from Bio.Seq import Seq"
   ]
  },
  {
   "cell_type": "markdown",
   "metadata": {},
   "source": [
    "**specify the adapter**"
   ]
  },
  {
   "cell_type": "code",
   "execution_count": 2,
   "metadata": {},
   "outputs": [
    {
     "name": "stdout",
     "output_type": "stream",
     "text": [
      "AGATCGGAAGAGCACACGTCTGAACTCCAGTCA\n",
      "AGATCGGAAGAGCGTCGTGTAGGGAAAGAGTGT\n"
     ]
    }
   ],
   "source": [
    "read1 = \"AGATCGGAAGAGCACACGTCTGAACTCCAGTCA\"\n",
    "read2 = \"AGATCGGAAGAGCGTCGTGTAGGGAAAGAGTGT\"\n",
    "\n",
    "seq1 = Seq(read1)\n",
    "seq2 = Seq(read2)\n",
    "\n",
    "print(seq1)\n",
    "print(seq2)"
   ]
  },
  {
   "cell_type": "markdown",
   "metadata": {},
   "source": [
    "**find the reverse complement**"
   ]
  },
  {
   "cell_type": "code",
   "execution_count": 3,
   "metadata": {},
   "outputs": [
    {
     "data": {
      "text/plain": [
       "Seq('TGACTGGAGTTCAGACGTGTGCTCTTCCGATCT')"
      ]
     },
     "execution_count": 3,
     "metadata": {},
     "output_type": "execute_result"
    }
   ],
   "source": [
    "seq1.reverse_complement()"
   ]
  },
  {
   "cell_type": "code",
   "execution_count": 4,
   "metadata": {},
   "outputs": [
    {
     "data": {
      "text/plain": [
       "Seq('ACACTCTTTCCCTACACGACGCTCTTCCGATCT')"
      ]
     },
     "execution_count": 4,
     "metadata": {},
     "output_type": "execute_result"
    }
   ],
   "source": [
    "seq2.reverse_complement()"
   ]
  },
  {
   "cell_type": "markdown",
   "metadata": {},
   "source": [
    "**Store the sequences into a file for later usage (trimming step)**"
   ]
  },
  {
   "cell_type": "code",
   "execution_count": 5,
   "metadata": {},
   "outputs": [],
   "source": [
    "%%bash\n",
    "source config.sh\n",
    "cat > $MYINFO/TruSeq_adapter.fasta << EOF\n",
    "> TruSeq read1\n",
    "AGATCGGAAGAGCACACGTCTGAACTCCAGTCA\n",
    "> TruSeq read2\n",
    "AGATCGGAAGAGCGTCGTGTAGGGAAAGAGTGT\n",
    "> TruSeq read1 rc\n",
    "TGACTGGAGTTCAGACGTGTGCTCTTCCGATCT\n",
    "> TruSeq read2 rc\n",
    "ACACTCTTTCCCTACACGACGCTCTTCCGATCT\n",
    "EOF"
   ]
  }
 ],
 "metadata": {
  "kernelspec": {
   "display_name": "Python 3",
   "language": "python",
   "name": "python3"
  },
  "language_info": {
   "codemirror_mode": {
    "name": "ipython",
    "version": 3
   },
   "file_extension": ".py",
   "mimetype": "text/x-python",
   "name": "python",
   "nbconvert_exporter": "python",
   "pygments_lexer": "ipython3",
   "version": "3.7.3"
  }
 },
 "nbformat": 4,
 "nbformat_minor": 2
}
