{
 "cells": [
  {
   "cell_type": "code",
   "execution_count": 1,
   "metadata": {},
   "outputs": [],
   "source": [
    "import numpy as np\n",
    "import numpy.random as rand"
   ]
  },
  {
   "cell_type": "code",
   "execution_count": 49,
   "metadata": {},
   "outputs": [],
   "source": [
    "S = np.array([\n",
    "    [1, 0.5, 0],\n",
    "    [0.5, 1, 0],  \n",
    "    [0, 0, 1]])"
   ]
  },
  {
   "cell_type": "code",
   "execution_count": 50,
   "metadata": {},
   "outputs": [],
   "source": [
    "L = np.linalg.cholesky(S)"
   ]
  },
  {
   "cell_type": "code",
   "execution_count": 51,
   "metadata": {},
   "outputs": [
    {
     "data": {
      "text/plain": [
       "array([[1. , 0.5, 0. ],\n",
       "       [0.5, 1. , 0. ],\n",
       "       [0. , 0. , 1. ]])"
      ]
     },
     "execution_count": 51,
     "metadata": {},
     "output_type": "execute_result"
    }
   ],
   "source": [
    "L.dot(L.T)"
   ]
  },
  {
   "cell_type": "code",
   "execution_count": 52,
   "metadata": {},
   "outputs": [
    {
     "data": {
      "text/plain": [
       "array([[1.       , 0.       , 0.       ],\n",
       "       [0.5      , 0.8660254, 0.       ],\n",
       "       [0.       , 0.       , 1.       ]])"
      ]
     },
     "execution_count": 52,
     "metadata": {},
     "output_type": "execute_result"
    }
   ],
   "source": [
    "L"
   ]
  },
  {
   "cell_type": "code",
   "execution_count": 53,
   "metadata": {},
   "outputs": [],
   "source": [
    "N = 100000"
   ]
  },
  {
   "cell_type": "code",
   "execution_count": 54,
   "metadata": {},
   "outputs": [
    {
     "data": {
      "text/plain": [
       "array([[ 1., -0.,  0.],\n",
       "       [-0.,  1., -0.],\n",
       "       [ 0., -0.,  1.]])"
      ]
     },
     "execution_count": 54,
     "metadata": {},
     "output_type": "execute_result"
    }
   ],
   "source": [
    "X = rand.normal(loc=0, scale=1, size = N * 3).reshape(N,3)\n",
    "np.round(np.cov(X.T), 2) "
   ]
  },
  {
   "cell_type": "code",
   "execution_count": 57,
   "metadata": {},
   "outputs": [
    {
     "data": {
      "text/plain": [
       "array([[ 1.  ,  0.51, -0.  ],\n",
       "       [ 0.51,  1.01, -0.  ],\n",
       "       [-0.  , -0.  ,  0.99]])"
      ]
     },
     "execution_count": 57,
     "metadata": {},
     "output_type": "execute_result"
    }
   ],
   "source": [
    "X = rand.normal(loc=0, scale=1, size = N * 3).reshape(N,3)\n",
    "Y = L.dot(X.T)\n",
    "Y = Y.T\n",
    "np.round(np.cov(Y.T), 2) "
   ]
  },
  {
   "cell_type": "code",
   "execution_count": 58,
   "metadata": {},
   "outputs": [
    {
     "data": {
      "text/plain": [
       "array([[-0.0946161 ,  0.13239726,  0.98667054],\n",
       "       [ 0.92623594,  0.36706812,  0.08572029],\n",
       "       [ 0.25536964,  0.83845478,  0.48143528],\n",
       "       ...,\n",
       "       [ 0.11839084,  0.81541807,  0.56663655],\n",
       "       [ 0.71676897,  0.35045445,  0.60284652],\n",
       "       [ 0.94082662,  0.31801399, -0.11709987]])"
      ]
     },
     "execution_count": 58,
     "metadata": {},
     "output_type": "execute_result"
    }
   ],
   "source": [
    "x, y, z = Y[:,0], Y[:,1], Y[:,2]\n",
    "r = x**2 + y**2 + z**2 \n",
    "ftr = (1/r)**0.5\n",
    "p = len(ftr)\n",
    "\n",
    "Y = np.array([Y[idx,:] * ftr[idx] for idx in range(p)])\n",
    "Y"
   ]
  },
  {
   "cell_type": "code",
   "execution_count": 61,
   "metadata": {},
   "outputs": [
    {
     "data": {
      "text/plain": [
       "array([[0.33, 0.11, 0.  ],\n",
       "       [0.11, 0.33, 0.  ],\n",
       "       [0.  , 0.  , 0.34]])"
      ]
     },
     "execution_count": 61,
     "metadata": {},
     "output_type": "execute_result"
    }
   ],
   "source": [
    "np.round(np.cov(Y.T), 2)"
   ]
  },
  {
   "cell_type": "code",
   "execution_count": 59,
   "metadata": {},
   "outputs": [
    {
     "data": {
      "text/plain": [
       "array([-8.33104548e-06, -4.42553646e-04, -2.65210106e-04])"
      ]
     },
     "execution_count": 59,
     "metadata": {},
     "output_type": "execute_result"
    }
   ],
   "source": [
    "np.mean(Y, axis = 0)"
   ]
  },
  {
   "cell_type": "code",
   "execution_count": 60,
   "metadata": {},
   "outputs": [
    {
     "data": {
      "text/plain": [
       "array([0.32817331, 0.32944206, 0.34238437])"
      ]
     },
     "execution_count": 60,
     "metadata": {},
     "output_type": "execute_result"
    }
   ],
   "source": [
    "np.var(Y, axis = 0)"
   ]
  },
  {
   "cell_type": "code",
   "execution_count": 34,
   "metadata": {},
   "outputs": [
    {
     "data": {
      "text/plain": [
       "array([[-0.72321256,  0.6643998 ,  0.18851127],\n",
       "       [-0.65239086, -0.25059738,  0.71525319],\n",
       "       [-0.87591864, -0.15481756,  0.45694427],\n",
       "       ...,\n",
       "       [ 0.43254994,  0.45661756, -0.77743228],\n",
       "       [-0.10576127, -0.95208351,  0.28696959],\n",
       "       [-0.55267261, -0.22869312,  0.80140654]])"
      ]
     },
     "execution_count": 34,
     "metadata": {},
     "output_type": "execute_result"
    }
   ],
   "source": [
    "rand.seed(123)\n",
    "N = 10000\n",
    "#X = rand.uniform(low=-1, high=1, size = N * 3).reshape(N,3)\n",
    "\n",
    "X = rand.normal(loc=0, scale=1, size = N * 3).reshape(N,3)\n",
    "\n",
    "x, y, z = X[:,0], X[:,1], X[:,2]\n",
    "r = x**2 + y**2 + z**2 \n",
    "#idx = r < 1\n",
    "\n",
    "#r = r[idx]\n",
    "#X = X[idx,:]\n",
    "\n",
    "ftr = (1/r)**0.5\n",
    "p = len(ftr)\n",
    "\n",
    "X = np.array([X[idx,:] * ftr[idx] for idx in range(p)])\n",
    "X"
   ]
  },
  {
   "cell_type": "code",
   "execution_count": 35,
   "metadata": {},
   "outputs": [
    {
     "data": {
      "text/plain": [
       "array([ 0.0114306 ,  0.0031302 , -0.00445224])"
      ]
     },
     "execution_count": 35,
     "metadata": {},
     "output_type": "execute_result"
    }
   ],
   "source": [
    "np.mean(X, axis = 0)"
   ]
  },
  {
   "cell_type": "code",
   "execution_count": 36,
   "metadata": {},
   "outputs": [
    {
     "data": {
      "text/plain": [
       "array([0.33123144, 0.33083536, 0.33777292])"
      ]
     },
     "execution_count": 36,
     "metadata": {},
     "output_type": "execute_result"
    }
   ],
   "source": [
    "np.var(X, axis = 0)"
   ]
  },
  {
   "cell_type": "code",
   "execution_count": null,
   "metadata": {},
   "outputs": [],
   "source": []
  }
 ],
 "metadata": {
  "kernelspec": {
   "display_name": "Python 3",
   "language": "python",
   "name": "python3"
  },
  "language_info": {
   "codemirror_mode": {
    "name": "ipython",
    "version": 3
   },
   "file_extension": ".py",
   "mimetype": "text/x-python",
   "name": "python",
   "nbconvert_exporter": "python",
   "pygments_lexer": "ipython3",
   "version": "3.7.3"
  }
 },
 "nbformat": 4,
 "nbformat_minor": 2
}
